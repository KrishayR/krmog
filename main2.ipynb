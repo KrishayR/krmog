{
 "cells": [
  {
   "cell_type": "code",
   "execution_count": 2,
   "metadata": {},
   "outputs": [
    {
     "name": "stdout",
     "output_type": "stream",
     "text": [
      "Your ip address is: 192.168.1.3\n"
     ]
    },
    {
     "name": "stderr",
     "output_type": "stream",
     "text": [
      "Exception in thread Thread-13:\n",
      "Traceback (most recent call last):\n",
      "  File \"/Users/sumeetkumar/opt/anaconda3/lib/python3.7/threading.py\", line 926, in _bootstrap_inner\n",
      "    self.run()\n",
      "  File \"/Users/sumeetkumar/opt/anaconda3/lib/python3.7/threading.py\", line 870, in run\n",
      "    self._target(*self._args, **self._kwargs)\n",
      "  File \"/Users/sumeetkumar/opt/anaconda3/lib/python3.7/site-packages/vidstream/streaming.py\", line 269, in __client_streaming\n",
      "    self.__client_socket.connect((self.__host, self.__port))\n",
      "ConnectionRefusedError: [Errno 61] Connection refused\n",
      "\n",
      "Exception in thread Thread-15:\n",
      "Traceback (most recent call last):\n",
      "  File \"/Users/sumeetkumar/opt/anaconda3/lib/python3.7/threading.py\", line 926, in _bootstrap_inner\n",
      "    self.run()\n",
      "  File \"/Users/sumeetkumar/opt/anaconda3/lib/python3.7/threading.py\", line 870, in run\n",
      "    self._target(*self._args, **self._kwargs)\n",
      "  File \"/Users/sumeetkumar/opt/anaconda3/lib/python3.7/site-packages/vidstream/audio.py\", line 85, in start_server\n",
      "    self.__stream = self.__audio.open(format=self.__audio_format, channels=self.__channels, rate=self.__rate, output=True, frames_per_buffer=self.__frame_chunk)\n",
      "  File \"/Users/sumeetkumar/opt/anaconda3/lib/python3.7/site-packages/pyaudio.py\", line 750, in open\n",
      "    stream = Stream(self, *args, **kwargs)\n",
      "  File \"/Users/sumeetkumar/opt/anaconda3/lib/python3.7/site-packages/pyaudio.py\", line 441, in __init__\n",
      "    self._stream = pa.open(**arguments)\n",
      "OSError: [Errno -9986] Internal PortAudio error\n",
      "\n",
      "Exception in thread Thread-18:\n",
      "Traceback (most recent call last):\n",
      "  File \"/Users/sumeetkumar/opt/anaconda3/lib/python3.7/threading.py\", line 926, in _bootstrap_inner\n",
      "    self.run()\n",
      "  File \"/Users/sumeetkumar/opt/anaconda3/lib/python3.7/threading.py\", line 870, in run\n",
      "    self._target(*self._args, **self._kwargs)\n",
      "  File \"/Users/sumeetkumar/opt/anaconda3/lib/python3.7/site-packages/vidstream/streaming.py\", line 269, in __client_streaming\n",
      "    self.__client_socket.connect((self.__host, self.__port))\n",
      "ConnectionRefusedError: [Errno 61] Connection refused\n",
      "\n",
      "Exception in thread Thread-20:\n",
      "Traceback (most recent call last):\n",
      "  File \"/Users/sumeetkumar/opt/anaconda3/lib/python3.7/threading.py\", line 926, in _bootstrap_inner\n",
      "    self.run()\n",
      "  File \"/Users/sumeetkumar/opt/anaconda3/lib/python3.7/threading.py\", line 870, in run\n",
      "    self._target(*self._args, **self._kwargs)\n",
      "  File \"/Users/sumeetkumar/opt/anaconda3/lib/python3.7/site-packages/vidstream/streaming.py\", line 269, in __client_streaming\n",
      "    self.__client_socket.connect((self.__host, self.__port))\n",
      "ConnectionRefusedError: [Errno 61] Connection refused\n",
      "\n"
     ]
    }
   ],
   "source": [
    "from vidstream import *\n",
    "import tkinter as tk\n",
    "import socket\n",
    "import threading\n",
    "from tkmacosx import Button as macbut\n",
    "\n",
    "local_ip_address = socket.gethostbyname(socket.gethostname()) #Grabs local ip address\n",
    "print(\"Your ip address is:\", local_ip_address)\n",
    "#FUNCTIONS\n",
    "server = StreamingServer(local_ip_address, 7777)\n",
    "receiver = AudioReceiver(local_ip_address, 6666)\n",
    "\n",
    "def start_listening():\n",
    "    t1 = threading.Thread(target=server.start_server)\n",
    "    t2 = threading.Thread(target=receiver.start_server)\n",
    "    t1.start()\n",
    "    t2.start()\n",
    "\n",
    "def start_camera_stream():\n",
    "    camera_client = CameraClient(text_target_ip.get(1.0,'end-1c'), 9999)#read to the end\n",
    "    t3 = threading.Thread(target=camera_client.start_stream)\n",
    "    t3.start()\n",
    "    \n",
    "def start_screen_sharing():\n",
    "    screen_client = ScreenShareClient(text_target_ip.get(1.0,'end-1c'), 9999)#read to the end\n",
    "    t4 = threading.Thread(target=screen_client.start_stream)\n",
    "    t4.start()  \n",
    "\n",
    "def start_audio_stream():\n",
    "    audio_sender = AudioSender(text_target_ip.get(1.0,'end-1c'), 8888)#read to the end\n",
    "    t5 = threading.Thread(target=audio_sender.start_stream)\n",
    "    t5.start()\n",
    "    \n",
    "#GUI\n",
    "\n",
    "window = tk.Tk() #Instantiating tkinter\n",
    "window.title(\"Krmog\") #title of window\n",
    "window.geometry('1000x750')\n",
    "window.configure(bg='#292827')\n",
    "label_target_ip = tk.Label(window, text='Target IP:',bg='#292827',fg=\"#f7747f\")# Target's ip address\n",
    "label_target_ip.configure(font=(\"Microsoft Himalaya\", 16, \"bold\"))\n",
    "label_target_ip.pack()\n",
    "\n",
    "text_target_ip = tk.Text(window, height=1, bg=\"#f7747f\",fg=\"#292827\")\n",
    "text_target_ip.configure(bd=0, highlightthickness=0, font=(\"Microsoft Himalaya\", 16, \"bold\"))\n",
    "text_target_ip.pack()\n",
    "\n",
    "btn_listen = macbut(window, activebackground=\"#292827\",activeforeground=\"#f7747f\", text=\"Connect to Audio\", fg='#292827',bg='#f7747f',takefocus=0, borderless=1,width=500, command=start_listening)\n",
    "btn_listen.pack(anchor=tk.CENTER, expand=True)\n",
    "\n",
    "btn_listen = macbut(window, activebackground=\"#292827\",activeforeground=\"#f7747f\", text=\"Turn on Camera\", fg='#292827',bg='#f7747f',takefocus=0, borderless=1,width=500,command=start_camera_stream)\n",
    "btn_listen.pack(anchor=tk.CENTER, expand=True)\n",
    "\n",
    "btn_listen = macbut(window, activebackground=\"#292827\",activeforeground=\"#f7747f\", text=\"Screenshare\", fg='#292827',bg='#f7747f',takefocus=0, borderless=1,width=500, command=start_screen_sharing)\n",
    "btn_listen.pack(anchor=tk.CENTER, expand=True)\n",
    "\n",
    "btn_listen = macbut(window, activebackground=\"#292827\",activeforeground=\"#f7747f\", text=\"Start Audio stream\", fg='#292827',bg='#f7747f',takefocus=0, borderless=1,width=500, command=start_audio_stream)\n",
    "btn_listen.pack(anchor=tk.CENTER, expand=True)\n",
    "\n",
    "window.mainloop()"
   ]
  },
  {
   "cell_type": "code",
   "execution_count": 2,
   "metadata": {},
   "outputs": [
    {
     "ename": "NameError",
     "evalue": "name 'socket' is not defined",
     "output_type": "error",
     "traceback": [
      "\u001b[0;31m---------------------------------------------------------------------------\u001b[0m",
      "\u001b[0;31mNameError\u001b[0m                                 Traceback (most recent call last)",
      "\u001b[0;32m<ipython-input-2-68774c29a07f>\u001b[0m in \u001b[0;36m<module>\u001b[0;34m\u001b[0m\n\u001b[0;32m----> 1\u001b[0;31m \u001b[0mlocal_ip_address\u001b[0m \u001b[0;34m=\u001b[0m \u001b[0msocket\u001b[0m\u001b[0;34m.\u001b[0m\u001b[0mgethostbyname\u001b[0m\u001b[0;34m(\u001b[0m\u001b[0msocket\u001b[0m\u001b[0;34m.\u001b[0m\u001b[0mgethostname\u001b[0m\u001b[0;34m(\u001b[0m\u001b[0;34m)\u001b[0m\u001b[0;34m)\u001b[0m \u001b[0;31m#Grabs local ip address\u001b[0m\u001b[0;34m\u001b[0m\u001b[0;34m\u001b[0m\u001b[0m\n\u001b[0m\u001b[1;32m      2\u001b[0m \u001b[0mprint\u001b[0m\u001b[0;34m(\u001b[0m\u001b[0mlocal_ip_address\u001b[0m\u001b[0;34m)\u001b[0m\u001b[0;34m\u001b[0m\u001b[0;34m\u001b[0m\u001b[0m\n",
      "\u001b[0;31mNameError\u001b[0m: name 'socket' is not defined"
     ]
    }
   ],
   "source": []
  },
  {
   "cell_type": "code",
   "execution_count": null,
   "metadata": {},
   "outputs": [],
   "source": []
  }
 ],
 "metadata": {
  "kernelspec": {
   "display_name": "Python 3",
   "language": "python",
   "name": "python3"
  },
  "language_info": {
   "codemirror_mode": {
    "name": "ipython",
    "version": 3
   },
   "file_extension": ".py",
   "mimetype": "text/x-python",
   "name": "python",
   "nbconvert_exporter": "python",
   "pygments_lexer": "ipython3",
   "version": "3.7.6"
  }
 },
 "nbformat": 4,
 "nbformat_minor": 4
}
