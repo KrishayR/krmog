{
 "cells": [
  {
   "cell_type": "code",
   "execution_count": 1,
   "metadata": {},
   "outputs": [
    {
     "ename": "OSError",
     "evalue": "[Errno 48] Address already in use",
     "output_type": "error",
     "traceback": [
      "\u001b[0;31m---------------------------------------------------------------------------\u001b[0m",
      "\u001b[0;31mOSError\u001b[0m                                   Traceback (most recent call last)",
      "\u001b[0;32m<ipython-input-1-4059a3a2938e>\u001b[0m in \u001b[0;36m<module>\u001b[0;34m\u001b[0m\n\u001b[1;32m      9\u001b[0m \u001b[0;31m#FUNCTIONS\u001b[0m\u001b[0;34m\u001b[0m\u001b[0;34m\u001b[0m\u001b[0;34m\u001b[0m\u001b[0m\n\u001b[1;32m     10\u001b[0m \u001b[0mserver\u001b[0m \u001b[0;34m=\u001b[0m \u001b[0mStreamingServer\u001b[0m\u001b[0;34m(\u001b[0m\u001b[0mlocal_ip_address\u001b[0m\u001b[0;34m,\u001b[0m \u001b[0;36m9999\u001b[0m\u001b[0;34m)\u001b[0m\u001b[0;34m\u001b[0m\u001b[0;34m\u001b[0m\u001b[0m\n\u001b[0;32m---> 11\u001b[0;31m \u001b[0mreceiver\u001b[0m \u001b[0;34m=\u001b[0m \u001b[0mAudioReceiver\u001b[0m\u001b[0;34m(\u001b[0m\u001b[0mlocal_ip_address\u001b[0m\u001b[0;34m,\u001b[0m \u001b[0;36m8888\u001b[0m\u001b[0;34m)\u001b[0m\u001b[0;34m\u001b[0m\u001b[0;34m\u001b[0m\u001b[0m\n\u001b[0m\u001b[1;32m     12\u001b[0m \u001b[0;34m\u001b[0m\u001b[0m\n\u001b[1;32m     13\u001b[0m \u001b[0;32mdef\u001b[0m \u001b[0mstart_listening\u001b[0m\u001b[0;34m(\u001b[0m\u001b[0;34m)\u001b[0m\u001b[0;34m:\u001b[0m\u001b[0;34m\u001b[0m\u001b[0;34m\u001b[0m\u001b[0m\n",
      "\u001b[0;32m~/opt/anaconda3/lib/python3.7/site-packages/vidstream/audio.py\u001b[0m in \u001b[0;36m__init__\u001b[0;34m(self, host, port, slots, audio_format, channels, rate, frame_chunk)\u001b[0m\n\u001b[1;32m     73\u001b[0m \u001b[0;34m\u001b[0m\u001b[0m\n\u001b[1;32m     74\u001b[0m         \u001b[0mself\u001b[0m\u001b[0;34m.\u001b[0m\u001b[0m__server_socket\u001b[0m \u001b[0;34m=\u001b[0m \u001b[0msocket\u001b[0m\u001b[0;34m.\u001b[0m\u001b[0msocket\u001b[0m\u001b[0;34m(\u001b[0m\u001b[0msocket\u001b[0m\u001b[0;34m.\u001b[0m\u001b[0mAF_INET\u001b[0m\u001b[0;34m,\u001b[0m \u001b[0msocket\u001b[0m\u001b[0;34m.\u001b[0m\u001b[0mSOCK_STREAM\u001b[0m\u001b[0;34m)\u001b[0m\u001b[0;34m\u001b[0m\u001b[0;34m\u001b[0m\u001b[0m\n\u001b[0;32m---> 75\u001b[0;31m         \u001b[0mself\u001b[0m\u001b[0;34m.\u001b[0m\u001b[0m__server_socket\u001b[0m\u001b[0;34m.\u001b[0m\u001b[0mbind\u001b[0m\u001b[0;34m(\u001b[0m\u001b[0;34m(\u001b[0m\u001b[0mself\u001b[0m\u001b[0;34m.\u001b[0m\u001b[0m__host\u001b[0m\u001b[0;34m,\u001b[0m \u001b[0mself\u001b[0m\u001b[0;34m.\u001b[0m\u001b[0m__port\u001b[0m\u001b[0;34m)\u001b[0m\u001b[0;34m)\u001b[0m\u001b[0;34m\u001b[0m\u001b[0;34m\u001b[0m\u001b[0m\n\u001b[0m\u001b[1;32m     76\u001b[0m \u001b[0;34m\u001b[0m\u001b[0m\n\u001b[1;32m     77\u001b[0m         \u001b[0mself\u001b[0m\u001b[0;34m.\u001b[0m\u001b[0m__block\u001b[0m \u001b[0;34m=\u001b[0m \u001b[0mthreading\u001b[0m\u001b[0;34m.\u001b[0m\u001b[0mLock\u001b[0m\u001b[0;34m(\u001b[0m\u001b[0;34m)\u001b[0m\u001b[0;34m\u001b[0m\u001b[0;34m\u001b[0m\u001b[0m\n",
      "\u001b[0;31mOSError\u001b[0m: [Errno 48] Address already in use"
     ]
    }
   ],
   "source": [
    "from vidstream import *\n",
    "import tkinter as tk\n",
    "import socket\n",
    "import threading\n",
    "from tkmacosx import Button as macbut\n",
    "\n",
    "local_ip_address = socket.gethostbyname(socket.gethostname()) #Grabs local ip address\n",
    "#print(local_ip_address)\n",
    "#FUNCTIONS\n",
    "server = StreamingServer(local_ip_address, 9999)\n",
    "receiver = AudioReceiver(local_ip_address, 8888)\n",
    "\n",
    "def start_listening():\n",
    "    t1 = threading.Thread(target=server.start_server)\n",
    "    t2 = threading.Thread(target=receiver.start_server)\n",
    "    t1.start()\n",
    "    t2.start()\n",
    "\n",
    "def start_camera_stream():\n",
    "    camera_client = CameraClient(text_target_ip.get(1.0,'end-1c'), 7777)#read to the end\n",
    "    t3 = threading.Thread(target=camera_client.start_stream)\n",
    "    t3.start()\n",
    "    \n",
    "def start_screen_sharing():\n",
    "    screen_client = ScreenShareClient(text_target_ip.get(1.0,'end-1c'), 6666)#read to the end\n",
    "    t4 = threading.Thread(target=screen_client.start_stream)\n",
    "    t4.start()  \n",
    "\n",
    "def start_audio_stream():\n",
    "    audio_sender = AudioSender(text_target_ip.get(1.0,'end-1c'), 7777)#read to the end\n",
    "    t5 = threading.Thread(target=audio_sender.start_stream)\n",
    "    t5.start()\n",
    "    \n",
    "#GUI\n",
    "\n",
    "window = tk.Tk() #Instantiating tkinter\n",
    "window.title(\"Krmog\") #title of window\n",
    "window.geometry('1000x750')\n",
    "window.configure(bg='#292827')\n",
    "label_target_ip = tk.Label(window, text='Target IP:',bg='#292827',fg=\"#f7747f\")# Target's ip address\n",
    "label_target_ip.configure(font=(\"Microsoft Himalaya\", 16, \"bold\"))\n",
    "label_target_ip.pack()\n",
    "\n",
    "text_target_ip = tk.Text(window, height=1, bg=\"#f7747f\",fg=\"#292827\")\n",
    "text_target_ip.configure(bd=0, highlightthickness=0, font=(\"Microsoft Himalaya\", 16, \"bold\"))\n",
    "text_target_ip.pack()\n",
    "\n",
    "btn_listen = macbut(window, activebackground=\"#292827\",activeforeground=\"#f7747f\", text=\"Connect to Audio\", fg='#292827',bg='#f7747f',takefocus=0, borderless=1,width=500, command=start_listening)\n",
    "btn_listen.pack(anchor=tk.CENTER, expand=True)\n",
    "\n",
    "btn_listen = macbut(window, activebackground=\"#292827\",activeforeground=\"#f7747f\", text=\"Turn on Camera\", fg='#292827',bg='#f7747f',takefocus=0, borderless=1,width=500,command=start_camera_stream)\n",
    "btn_listen.pack(anchor=tk.CENTER, expand=True)\n",
    "\n",
    "btn_listen = macbut(window, activebackground=\"#292827\",activeforeground=\"#f7747f\", text=\"Screenshare\", fg='#292827',bg='#f7747f',takefocus=0, borderless=1,width=500, command=start_screen_sharing)\n",
    "btn_listen.pack(anchor=tk.CENTER, expand=True)\n",
    "\n",
    "btn_listen = macbut(window, activebackground=\"#292827\",activeforeground=\"#f7747f\", text=\"Start Audio stream\", fg='#292827',bg='#f7747f',takefocus=0, borderless=1,width=500, command=start_audio_stream)\n",
    "btn_listen.pack(anchor=tk.CENTER, expand=True)\n",
    "\n",
    "window.mainloop()"
   ]
  },
  {
   "cell_type": "code",
   "execution_count": null,
   "metadata": {},
   "outputs": [],
   "source": []
  },
  {
   "cell_type": "code",
   "execution_count": null,
   "metadata": {},
   "outputs": [],
   "source": []
  }
 ],
 "metadata": {
  "kernelspec": {
   "display_name": "Python 3",
   "language": "python",
   "name": "python3"
  },
  "language_info": {
   "codemirror_mode": {
    "name": "ipython",
    "version": 3
   },
   "file_extension": ".py",
   "mimetype": "text/x-python",
   "name": "python",
   "nbconvert_exporter": "python",
   "pygments_lexer": "ipython3",
   "version": "3.7.6"
  }
 },
 "nbformat": 4,
 "nbformat_minor": 4
}
